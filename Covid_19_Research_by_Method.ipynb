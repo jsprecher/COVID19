{
  "nbformat": 4,
  "nbformat_minor": 0,
  "metadata": {
    "colab": {
      "name": "Covid-19 Research by Method.ipynb",
      "provenance": [],
      "collapsed_sections": [],
      "machine_shape": "hm",
      "include_colab_link": true
    },
    "kernelspec": {
      "name": "python3",
      "display_name": "Python 3"
    }
  },
  "cells": [
    {
      "cell_type": "markdown",
      "metadata": {
        "id": "view-in-github",
        "colab_type": "text"
      },
      "source": [
        "<a href=\"https://colab.research.google.com/github/jsprecher/COVID19/blob/master/Covid_19_Research_by_Method.ipynb\" target=\"_parent\"><img src=\"https://colab.research.google.com/assets/colab-badge.svg\" alt=\"Open In Colab\"/></a>"
      ]
    },
    {
      "cell_type": "markdown",
      "metadata": {
        "id": "tEznHFXcKTlU",
        "colab_type": "text"
      },
      "source": [
        "### Setting up Kaggle API in Google Colaboratory"
      ]
    },
    {
      "cell_type": "code",
      "metadata": {
        "id": "haItZkO3IDXH",
        "colab_type": "code",
        "colab": {}
      },
      "source": [
        "!pip install -q kaggle"
      ],
      "execution_count": 0,
      "outputs": []
    },
    {
      "cell_type": "code",
      "metadata": {
        "id": "UDjgdtN0JPXt",
        "colab_type": "code",
        "colab": {}
      },
      "source": [
        "f = open(\"kaggle.json\", \"w\")\n",
        "f.write('{\"username\":\"jakesprecher\",\"key\":\"525fd5c1ad51bf478a6bc6f02e623451\"}')\n",
        "f.close()"
      ],
      "execution_count": 0,
      "outputs": []
    },
    {
      "cell_type": "code",
      "metadata": {
        "id": "7R71aMxBJUZP",
        "colab_type": "code",
        "colab": {}
      },
      "source": [
        "!mkdir ~/.kaggle"
      ],
      "execution_count": 0,
      "outputs": []
    },
    {
      "cell_type": "code",
      "metadata": {
        "id": "dztMX5u0Jda1",
        "colab_type": "code",
        "colab": {}
      },
      "source": [
        "!cp kaggle.json ~/.kaggle/"
      ],
      "execution_count": 0,
      "outputs": []
    },
    {
      "cell_type": "code",
      "metadata": {
        "id": "AOoD_D7KJheO",
        "colab_type": "code",
        "colab": {}
      },
      "source": [
        "!chmod 600 ~/.kaggle/kaggle.json"
      ],
      "execution_count": 0,
      "outputs": []
    },
    {
      "cell_type": "code",
      "metadata": {
        "id": "sHMWtGu1Jyd4",
        "colab_type": "code",
        "outputId": "046aa45d-c0d7-425f-dfd9-8bdde8f6bd2c",
        "colab": {
          "base_uri": "https://localhost:8080/",
          "height": 70
        }
      },
      "source": [
        "!kaggle datasets download -d skylord/coronawhy"
      ],
      "execution_count": 0,
      "outputs": [
        {
          "output_type": "stream",
          "text": [
            "Downloading coronawhy.zip to /content\n",
            "100% 12.8G/12.8G [04:24<00:00, 31.0MB/s]\n",
            "100% 12.8G/12.8G [04:24<00:00, 51.7MB/s]\n"
          ],
          "name": "stdout"
        }
      ]
    },
    {
      "cell_type": "markdown",
      "metadata": {
        "id": "ue6pPnaHKcQk",
        "colab_type": "text"
      },
      "source": [
        "## Grouping Papers by Methodology"
      ]
    },
    {
      "cell_type": "markdown",
      "metadata": {
        "id": "OrfVs51LKqBL",
        "colab_type": "text"
      },
      "source": [
        "**Task at hand** :  https://trello.com/c/JQtlAk06/65-split-studies-by-type-different-types-of-studies-have-different-credibility"
      ]
    },
    {
      "cell_type": "code",
      "metadata": {
        "id": "sRTbTWnvLe9a",
        "colab_type": "code",
        "outputId": "c280034d-3844-4600-bfd6-2bcecf142616",
        "colab": {
          "base_uri": "https://localhost:8080/",
          "height": 422
        }
      },
      "source": [
        "!unzip coronawhy.zip v6_text/*\n",
        "!unzip coronawhy.zip clean_metadata.csv"
      ],
      "execution_count": 0,
      "outputs": [
        {
          "output_type": "stream",
          "text": [
            "Archive:  coronawhy.zip\n",
            "  inflating: v6_text/v6_text/v6_text_0.pkl  \n",
            "  inflating: v6_text/v6_text/v6_text_1.pkl  \n",
            "  inflating: v6_text/v6_text/v6_text_10.pkl  \n",
            "  inflating: v6_text/v6_text/v6_text_11.pkl  \n",
            "  inflating: v6_text/v6_text/v6_text_12.pkl  \n",
            "  inflating: v6_text/v6_text/v6_text_13.pkl  \n",
            "  inflating: v6_text/v6_text/v6_text_14.pkl  \n",
            "  inflating: v6_text/v6_text/v6_text_15.pkl  \n",
            "  inflating: v6_text/v6_text/v6_text_16.pkl  \n",
            "  inflating: v6_text/v6_text/v6_text_17.pkl  \n",
            "  inflating: v6_text/v6_text/v6_text_18.pkl  \n",
            "  inflating: v6_text/v6_text/v6_text_19.pkl  \n",
            "  inflating: v6_text/v6_text/v6_text_2.pkl  \n",
            "  inflating: v6_text/v6_text/v6_text_3.pkl  \n",
            "  inflating: v6_text/v6_text/v6_text_4.pkl  \n",
            "  inflating: v6_text/v6_text/v6_text_5.pkl  \n",
            "  inflating: v6_text/v6_text/v6_text_6.pkl  \n",
            "  inflating: v6_text/v6_text/v6_text_7.pkl  \n",
            "  inflating: v6_text/v6_text/v6_text_8.pkl  \n",
            "  inflating: v6_text/v6_text/v6_text_9.pkl  \n",
            "Archive:  coronawhy.zip\n",
            "  inflating: clean_metadata.csv      \n"
          ],
          "name": "stdout"
        }
      ]
    },
    {
      "cell_type": "code",
      "metadata": {
        "id": "pr1u9HUOLDxT",
        "colab_type": "code",
        "colab": {}
      },
      "source": [
        "# Importing required libraries\n",
        "\n",
        "import os\n",
        "import pandas as pd\n",
        "import numpy as np\n",
        "import nltk \n",
        "from nltk.corpus import wordnet \n",
        "\n",
        "\n",
        "PATH = \"v6_text/v6_text/\""
      ],
      "execution_count": 0,
      "outputs": []
    },
    {
      "cell_type": "markdown",
      "metadata": {
        "id": "UY7vcU6p69jP",
        "colab_type": "text"
      },
      "source": [
        "Here are the keywords (currently, we have trigrams) to search for in the papers."
      ]
    },
    {
      "cell_type": "markdown",
      "metadata": {
        "id": "Qrcyrn4JySvx",
        "colab_type": "text"
      },
      "source": [
        "The output is supposed to be in this format."
      ]
    },
    {
      "cell_type": "markdown",
      "metadata": {
        "id": "rWHbTs8n7A5-",
        "colab_type": "text"
      },
      "source": [
        "**Searching for the keywords only in method and result section of the papers, as the most relevant papers can be found there only.**\n",
        "\n",
        "(This cell may take some time)"
      ]
    },
    {
      "cell_type": "code",
      "metadata": {
        "id": "q0YpM8qSWCS4",
        "colab_type": "code",
        "outputId": "cd16f17e-92bc-4087-9413-321449b8f1e5",
        "colab": {
          "base_uri": "https://localhost:8080/",
          "height": 90
        }
      },
      "source": [
        "synonyms = [] \n",
        "antonyms = [] \n",
        "nltk.download('wordnet')\n",
        "  \n",
        "for syn in wordnet.synsets(\"design\"): \n",
        "    for l in syn.lemmas(): \n",
        "        synonyms.append(l.name()) \n",
        "        if l.antonyms(): \n",
        "            antonyms.append(l.antonyms()[0].name()) \n",
        "  \n",
        "print(set(synonyms)) "
      ],
      "execution_count": 0,
      "outputs": [
        {
          "output_type": "stream",
          "text": [
            "[nltk_data] Downloading package wordnet to /root/nltk_data...\n",
            "[nltk_data]   Unzipping corpora/wordnet.zip.\n",
            "{'figure', 'pattern', 'excogitation', 'conception', 'designing', 'invention', 'aim', 'intention', 'innovation', 'project', 'blueprint', 'purpose', 'contrive', 'plan', 'design', 'intent'}\n"
          ],
          "name": "stdout"
        }
      ]
    },
    {
      "cell_type": "code",
      "metadata": {
        "id": "oxeTsUUCkgHb",
        "colab_type": "code",
        "colab": {}
      },
      "source": [
        "method_keywords = ['method', 'experiment', 'design', 'process', 'study', 'specimen','setup','task', 'intro']"
      ],
      "execution_count": 0,
      "outputs": []
    },
    {
      "cell_type": "code",
      "metadata": {
        "id": "hNa-HNKZylBN",
        "colab_type": "code",
        "colab": {}
      },
      "source": [
        "firstpass = True\n",
        "sections = []\n",
        "\n",
        "for pkl in os.listdir(PATH):\n",
        "  df = pd.read_pickle(PATH+pkl, compression='gzip')\n",
        "  df_sub = df.loc[:,['paper_id', 'language','section', 'sentence', 'lemma', 'UMLS']]\n",
        "  \n",
        "  if(firstpass):\n",
        "    df_method = df_sub[df_sub['section'].astype(str).str.contains('|'.join(method_keywords))]\n",
        "    firstpass = False\n",
        "  else:\n",
        "    df_method = pd.concat([df_method, df_sub[df_sub['section'].astype(str).str.contains('|'.join(method_keywords))]])"
      ],
      "execution_count": 0,
      "outputs": []
    },
    {
      "cell_type": "code",
      "metadata": {
        "id": "2F9IgzTAyXg2",
        "colab_type": "code",
        "outputId": "93e2631b-b6c3-4fd6-8a48-b86c9be0f206",
        "colab": {
          "base_uri": "https://localhost:8080/",
          "height": 35
        }
      },
      "source": [
        "unique_papers = df_method['paper_id'].nunique()\n",
        "\n",
        "print('There are {} papers accounted for.'.format(unique_papers))"
      ],
      "execution_count": 0,
      "outputs": [
        {
          "output_type": "stream",
          "text": [
            "There are 26908 papers accounted for.\n"
          ],
          "name": "stdout"
        }
      ]
    },
    {
      "cell_type": "code",
      "metadata": {
        "id": "pYHbTp9spUb2",
        "colab_type": "code",
        "outputId": "c05d9882-89e6-47a7-9760-af63b54ab990",
        "colab": {
          "base_uri": "https://localhost:8080/",
          "height": 271
        }
      },
      "source": [
        "df_method['lemma'] = df_method['lemma'].apply(lambda x: ' '.join(x))\n",
        "df_method.head()"
      ],
      "execution_count": 0,
      "outputs": [
        {
          "output_type": "execute_result",
          "data": {
            "text/html": [
              "<div>\n",
              "<style scoped>\n",
              "    .dataframe tbody tr th:only-of-type {\n",
              "        vertical-align: middle;\n",
              "    }\n",
              "\n",
              "    .dataframe tbody tr th {\n",
              "        vertical-align: top;\n",
              "    }\n",
              "\n",
              "    .dataframe thead th {\n",
              "        text-align: right;\n",
              "    }\n",
              "</style>\n",
              "<table border=\"1\" class=\"dataframe\">\n",
              "  <thead>\n",
              "    <tr style=\"text-align: right;\">\n",
              "      <th></th>\n",
              "      <th>paper_id</th>\n",
              "      <th>language</th>\n",
              "      <th>section</th>\n",
              "      <th>sentence</th>\n",
              "      <th>lemma</th>\n",
              "      <th>UMLS</th>\n",
              "    </tr>\n",
              "  </thead>\n",
              "  <tbody>\n",
              "    <tr>\n",
              "      <th>158</th>\n",
              "      <td>53cee6ab40cabc83c6a1d71faf668e95d823c33f</td>\n",
              "      <td>en</td>\n",
              "      <td>introduction</td>\n",
              "      <td>In the last few decades, several methods to cl...</td>\n",
              "      <td>in the last few decade , several method to cla...</td>\n",
              "      <td>[Decade, Methods, Genes, Proteins]</td>\n",
              "    </tr>\n",
              "    <tr>\n",
              "      <th>159</th>\n",
              "      <td>53cee6ab40cabc83c6a1d71faf668e95d823c33f</td>\n",
              "      <td>en</td>\n",
              "      <td>introduction</td>\n",
              "      <td>Most of these methods are alignmentbased in wh...</td>\n",
              "      <td>Most of these method be alignmentbase in which...</td>\n",
              "      <td>[Methods, Alignment, Monitoring Systems]</td>\n",
              "    </tr>\n",
              "    <tr>\n",
              "      <th>160</th>\n",
              "      <td>53cee6ab40cabc83c6a1d71faf668e95d823c33f</td>\n",
              "      <td>en</td>\n",
              "      <td>introduction</td>\n",
              "      <td>These methods provide accurate classification ...</td>\n",
              "      <td>these method provide accurate classification o...</td>\n",
              "      <td>[Methods, Accurate (qualifier), Classification...</td>\n",
              "    </tr>\n",
              "    <tr>\n",
              "      <th>161</th>\n",
              "      <td>53cee6ab40cabc83c6a1d71faf668e95d823c33f</td>\n",
              "      <td>en</td>\n",
              "      <td>introduction</td>\n",
              "      <td>Nevertheless, their major drawback is due to s...</td>\n",
              "      <td>nevertheless , -PRON- major drawback be due to...</td>\n",
              "      <td>[Consumption of goods, statistical cluster]</td>\n",
              "    </tr>\n",
              "    <tr>\n",
              "      <th>162</th>\n",
              "      <td>53cee6ab40cabc83c6a1d71faf668e95d823c33f</td>\n",
              "      <td>en</td>\n",
              "      <td>introduction</td>\n",
              "      <td>Henceforth, an alignment-free technique is a t...</td>\n",
              "      <td>henceforth , an alignment-free technique be a ...</td>\n",
              "      <td>[Test Method, Classification, Data Set]</td>\n",
              "    </tr>\n",
              "  </tbody>\n",
              "</table>\n",
              "</div>"
            ],
            "text/plain": [
              "                                     paper_id  ...                                               UMLS\n",
              "158  53cee6ab40cabc83c6a1d71faf668e95d823c33f  ...                 [Decade, Methods, Genes, Proteins]\n",
              "159  53cee6ab40cabc83c6a1d71faf668e95d823c33f  ...           [Methods, Alignment, Monitoring Systems]\n",
              "160  53cee6ab40cabc83c6a1d71faf668e95d823c33f  ...  [Methods, Accurate (qualifier), Classification...\n",
              "161  53cee6ab40cabc83c6a1d71faf668e95d823c33f  ...        [Consumption of goods, statistical cluster]\n",
              "162  53cee6ab40cabc83c6a1d71faf668e95d823c33f  ...            [Test Method, Classification, Data Set]\n",
              "\n",
              "[5 rows x 6 columns]"
            ]
          },
          "metadata": {
            "tags": []
          },
          "execution_count": 44
        }
      ]
    },
    {
      "cell_type": "code",
      "metadata": {
        "id": "nziaQBuo41U9",
        "colab_type": "code",
        "colab": {}
      },
      "source": [
        "df_method['full_lemma'] = df_method.groupby(['paper_id','section'])['lemma'].transform(lambda x: ','.join(x.astype(str)))\n",
        "df_method['full_section'] = df_method.groupby(['paper_id', 'section'])['sentence'].transform(lambda x: ','.join(x.astype(str)))"
      ],
      "execution_count": 0,
      "outputs": []
    },
    {
      "cell_type": "markdown",
      "metadata": {
        "id": "AaZdjC_JEJmX",
        "colab_type": "text"
      },
      "source": [
        "# Identify different experiment types"
      ]
    },
    {
      "cell_type": "code",
      "metadata": {
        "id": "dXX7_rpWg4_Z",
        "colab_type": "code",
        "colab": {}
      },
      "source": [
        "silico = ['computation', 'simulation']\n",
        "vitro = ['cell culture', 'cell line', 'immortalized', 'media', 'well plate', 'FBS',\n",
        "         'fetal bovine serum', 'incubator', 'CO2', 'carbon dioxide', 'air-liquid interface']\n",
        "vivo = ['mouse', 'ferret', 'dog', 'rat', 'bat', 'cat', 'mice', 'fish', 'rabbit',\n",
        "        'guinea pig', 'hamster', 'pig','hog','cow','animal','dog','monkey',\n",
        "        'wildtype', 'intraperitoneal', 'oral gavage', 'tail vein', 'subcutaneous'] # add other drug administation methods"
      ],
      "execution_count": 0,
      "outputs": []
    },
    {
      "cell_type": "code",
      "metadata": {
        "id": "qobY9ENGFXWM",
        "colab_type": "code",
        "colab": {}
      },
      "source": [
        "articles = df_method.loc[:,['paper_id', 'section','full_section','full_section', 'full_lemma']].drop_duplicates()"
      ],
      "execution_count": 0,
      "outputs": []
    },
    {
      "cell_type": "code",
      "metadata": {
        "id": "S2Mc4X7g9TWY",
        "colab_type": "code",
        "colab": {}
      },
      "source": [
        "articles['silico'] = articles['full_lemma'].str.contains('|'.join(silico), case=False)\n",
        "articles['vitro'] = articles['full_lemma'].str.contains('|'.join(vitro), case=False)\n",
        "articles['vivo'] = articles['full_lemma'].str.contains('|'.join(vivo), case=False)"
      ],
      "execution_count": 0,
      "outputs": []
    },
    {
      "cell_type": "code",
      "metadata": {
        "id": "cEJNxJLwu4US",
        "colab_type": "code",
        "outputId": "555cdec8-9e74-4958-dac8-b85d0ff95a05",
        "colab": {
          "base_uri": "https://localhost:8080/",
          "height": 87
        }
      },
      "source": [
        "print(\"There are {}% articles containing silico terms.\".format(round(articles['silico'].sum()/len(articles),4)*100))\n",
        "print(\"There are {}% articles containing vitro terms.\".format(round(articles['vitro'].sum()/len(articles),4)*100))\n",
        "print(\"There are {}% articles containing vivo terms.\".format(round(articles['vivo'].sum()/len(articles),4)*100))\n",
        "print(\"There are {} articles total\".format(articles['paper_id'].nunique()))"
      ],
      "execution_count": 0,
      "outputs": [
        {
          "output_type": "stream",
          "text": [
            "There are 4.26% articles containing silico terms.\n",
            "There are 24.81% articles containing vitro terms.\n",
            "There are 91.42% articles containing vivo terms.\n",
            "There are 26908 articles total\n"
          ],
          "name": "stdout"
        }
      ]
    },
    {
      "cell_type": "code",
      "metadata": {
        "id": "C_eVWd9GISnt",
        "colab_type": "code",
        "colab": {}
      },
      "source": [
        "def keywordcounter(sentence, keywords):\n",
        "  '''\n",
        "  Input : List of sentences\n",
        "  Returns : Keywords present in sentences, Total count of all keywords present in Input\n",
        "  '''\n",
        "  total = 0\n",
        "  for word in keywords:\n",
        "    counter = sentence.lower().count(word)\n",
        "    total = total + counter\n",
        "  return total"
      ],
      "execution_count": 0,
      "outputs": []
    },
    {
      "cell_type": "code",
      "metadata": {
        "id": "7HgUERadB3rZ",
        "colab_type": "code",
        "colab": {}
      },
      "source": [
        "articles['silico'] = articles['full_lemma'].apply(lambda x: keywordcounter(x, silico))\n",
        "articles['vitro'] = articles['full_lemma'].apply(lambda x: keywordcounter(x, vitro))\n",
        "articles['vivo'] = articles['full_lemma'].apply(lambda x: keywordcounter(x, vivo))"
      ],
      "execution_count": 0,
      "outputs": []
    },
    {
      "cell_type": "code",
      "metadata": {
        "id": "bl_bwnFT3oLq",
        "colab_type": "code",
        "colab": {}
      },
      "source": [
        "articles.loc[(articles['silico'] > articles['vitro'])&(articles['silico'] > articles['vivo']),'methodology'] = 'silico'\n",
        "articles.loc[(articles['vitro'] > articles['silico'])&(articles['vitro'] > articles['vivo']),'methodology'] = 'vitro'\n",
        "articles.loc[(articles['vivo'] > articles['silico'])&(articles['vivo'] > articles['vitro']),'methodology'] = 'vivo'"
      ],
      "execution_count": 0,
      "outputs": []
    },
    {
      "cell_type": "code",
      "metadata": {
        "id": "pyVvEGnENgWk",
        "colab_type": "code",
        "outputId": "d536c4b4-5132-46cc-967c-d9d9ec33c369",
        "colab": {
          "base_uri": "https://localhost:8080/",
          "height": 457
        }
      },
      "source": [
        "metadata = pd.read_csv('clean_metadata.csv')\n",
        "metadata.rename(columns={'sha':'paper_id'}, inplace = True)\n",
        "metadata['paper_id'] = metadata['paper_id'].astype(\"string\")\n",
        "metadata.info()"
      ],
      "execution_count": 0,
      "outputs": [
        {
          "output_type": "stream",
          "text": [
            "<class 'pandas.core.frame.DataFrame'>\n",
            "RangeIndex: 31745 entries, 0 to 31744\n",
            "Data columns (total 18 columns):\n",
            " #   Column                       Non-Null Count  Dtype  \n",
            "---  ------                       --------------  -----  \n",
            " 0   Unnamed: 0                   31745 non-null  int64  \n",
            " 1   cord_uid                     31745 non-null  object \n",
            " 2   paper_id                     31744 non-null  string \n",
            " 3   source_x                     31745 non-null  object \n",
            " 4   title                        31710 non-null  object \n",
            " 5   doi                          31745 non-null  object \n",
            " 6   pmcid                        16636 non-null  object \n",
            " 7   pubmed_id                    24739 non-null  float64\n",
            " 8   license                      31745 non-null  object \n",
            " 9   abstract                     27917 non-null  object \n",
            " 10  publish_time                 31745 non-null  object \n",
            " 11  authors                      31191 non-null  object \n",
            " 12  journal                      30623 non-null  object \n",
            " 13  Microsoft Academic Paper ID  357 non-null    float64\n",
            " 14  WHO #Covidence               490 non-null    object \n",
            " 15  has_full_text                31745 non-null  bool   \n",
            " 16  full_text_file               31745 non-null  object \n",
            " 17  url                          31563 non-null  object \n",
            "dtypes: bool(1), float64(2), int64(1), object(13), string(1)\n",
            "memory usage: 4.1+ MB\n"
          ],
          "name": "stdout"
        }
      ]
    },
    {
      "cell_type": "markdown",
      "metadata": {
        "id": "LXdzYvu98rbo",
        "colab_type": "text"
      },
      "source": [
        "Merging the given papers with their metadata, which contains relevant data."
      ]
    },
    {
      "cell_type": "code",
      "metadata": {
        "id": "aL5WuTLmFymD",
        "colab_type": "code",
        "colab": {}
      },
      "source": [
        "df_full = articles.merge(metadata[['paper_id', 'title', 'abstract', 'publish_time', 'authors', 'url']], on='paper_id', how='left')"
      ],
      "execution_count": 0,
      "outputs": []
    },
    {
      "cell_type": "markdown",
      "metadata": {
        "id": "rCvQxCY381sO",
        "colab_type": "text"
      },
      "source": [
        "Keeping only the fields which are relevant to us."
      ]
    },
    {
      "cell_type": "code",
      "metadata": {
        "id": "OfnsH5GU5T7Q",
        "colab_type": "code",
        "outputId": "9602231f-241e-4172-d22f-f1516f76b0eb",
        "colab": {
          "base_uri": "https://localhost:8080/",
          "height": 316
        }
      },
      "source": [
        "df_full = df_full[['paper_id', 'section', 'full_section', 'title', 'abstract', 'publish_time', 'authors', 'url', 'methodology']]\n",
        "df_full.info()"
      ],
      "execution_count": 0,
      "outputs": [
        {
          "output_type": "stream",
          "text": [
            "<class 'pandas.core.frame.DataFrame'>\n",
            "Int64Index: 41502 entries, 0 to 41501\n",
            "Data columns (total 10 columns):\n",
            " #   Column        Non-Null Count  Dtype \n",
            "---  ------        --------------  ----- \n",
            " 0   paper_id      41502 non-null  string\n",
            " 1   section       41502 non-null  object\n",
            " 2   full_section  41502 non-null  object\n",
            " 3   full_section  41502 non-null  object\n",
            " 4   title         35205 non-null  object\n",
            " 5   abstract      33674 non-null  object\n",
            " 6   publish_time  35205 non-null  object\n",
            " 7   authors       34821 non-null  object\n",
            " 8   url           34976 non-null  object\n",
            " 9   methodology   37733 non-null  object\n",
            "dtypes: object(9), string(1)\n",
            "memory usage: 3.5+ MB\n"
          ],
          "name": "stdout"
        }
      ]
    }
  ]
}